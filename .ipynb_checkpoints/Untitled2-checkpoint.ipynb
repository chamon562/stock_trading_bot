{
 "cells": [
  {
   "cell_type": "code",
   "execution_count": null,
   "metadata": {},
   "outputs": [],
   "source": [
    "'''\n",
    "primeRangeSum\n",
    "Write a function `primeRangeSum(num1, num2)` that takes two numbers and returns the sum of all prime numbers between start and end (inclusive).\n",
    "Examples:\n",
    "primeRangeSum(10, 20);  => 60\n",
    "primeRangeSum(20, 10);  => 60\n",
    "primeRangeSum(20, 29);  => 52\n",
    "primeRangeSum(50, 41);  => 131\n",
    "===================================================================\n",
    "Define a function is_prime(number) that returns `true`\n",
    "if `number` is prime. Otherwise, false. Assume `number`\n",
    "is a positive integer.\n",
    "Examples:\n",
    "isPrime(2); // => true\n",
    "isPrime(7); // => true\n",
    "isPrime(9); // => false\n",
    "isPrime(10); // => false\n",
    "isPrime(101); // => true\n",
    "isPrime(104); // => false\n",
    "'''"
   ]
  },
  {
   "cell_type": "code",
   "execution_count": null,
   "metadata": {},
   "outputs": [],
   "source": [
    "'''\n",
    "Step1: Understand the problem.\n",
    "Step2: Devise a plan(translaste).\n",
    "Step3: Carry out the plan (solve).\n",
    "step4: Look back(check and interpret).\n",
    "'''"
   ]
  },
  {
   "cell_type": "code",
   "execution_count": null,
   "metadata": {},
   "outputs": [],
   "source": [
    "def is_prime(n):\n",
    "    # anything less than 2 is not a prime\n",
    "    # A prime number is a number only dvisible by itself.\n",
    "    \n",
    "    if n < 2:\n",
    "        return False\n",
    "    # check each number from 2 to n to see if any number is divisible by n\n",
    "    for i in range(2, n):\n",
    "        #check to see if n% i == 0 if equal to zero then I know its not prime\n",
    "        #ex. 6 % 2  will be false because its divisible by 2\n",
    "        #ex. 15 --> false 15 % 3 \n",
    "        \n",
    "        \n",
    "        if n % i == 0: \n",
    "            return False\n",
    "    return True"
   ]
  },
  {
   "cell_type": "code",
   "execution_count": null,
   "metadata": {},
   "outputs": [],
   "source": [
    "print(is_prime(2))\n",
    "print(is_prime(7))\n",
    "print(is_prime(9))\n",
    "print(is_prime(10))\n",
    "print(is_prime(101))\n",
    "print(is_prime(-1))"
   ]
  },
  {
   "cell_type": "code",
   "execution_count": null,
   "metadata": {},
   "outputs": [],
   "source": [
    "def prim_range_sum(num1, num2):\n",
    "    #result variable to store additions of prime numbers\n",
    "    result =0\n",
    "    \n",
    "    # check to see if num1 is less than num2\n",
    "    if num1 is > num2:\n",
    "        #set up temp variable and set it equal to num1\n",
    "        temp = num2\n",
    "        #set num2 to equal num1\n",
    "        num2 = num1\n",
    "        \n",
    "        num1 = temp\n",
    "    \n",
    "    #loop from num1 to num2 (inclusive)  and check each number to see if prime\n",
    "    #if prime, then I want to add the number to my result\n",
    "    for i in range(num1, (num2 + 1)): #10, 20 \n",
    "        #pass in i into my is_prime function \n",
    "        if (is_prime(i)):\n",
    "            result += i\n",
    "    return result # 11 + 13+ 17 + 19"
   ]
  },
  {
   "cell_type": "code",
   "execution_count": null,
   "metadata": {},
   "outputs": [],
   "source": [
    "primeRangeSum(10, 20)\n",
    "# primeRangeSum(20, 10)\n",
    "# primeRangeSum(20, 49)\n",
    "# primeRangeSum(50, 41)"
   ]
  },
  {
   "cell_type": "code",
   "execution_count": null,
   "metadata": {},
   "outputs": [],
   "source": [
    "'''\n",
    "Step 1: Understand the problem.\n",
    "Step 2: Devise a plan (translate).\n",
    "Step 3: Carry out the plan (solve).\n",
    "Step 4: Look back (check and interpret).\n",
    "'''\n",
    "​\n",
    "def is_prime(n):\n",
    "    # Anything that is less than 2 is not prime\n",
    "    # A prime number is a number that is only divisible by itself\n",
    "    \n",
    "    if n < 2:\n",
    "        return False\n",
    "    # check each number from 2 to n to see if any number is divisible by n\n",
    "    \n",
    "    for i in range(2, n):\n",
    "        # check to see if n % i == 0\n",
    "        # one example 15 -> False\n",
    "        \n",
    "        if n % i == 0:\n",
    "            return False\n",
    "    # Number is prime    \n",
    "    return True\n",
    "​\n",
    "print(is_prime(2))\n",
    "print(is_prime(7))\n",
    "print(is_prime(9))\n",
    "print(is_prime(10))\n",
    "print(is_prime(101))\n",
    "print(is_prime(104))\n",
    "print(is_prime(-1))\n",
    "​\n",
    "​\n",
    "def prime_range_sum(num1, num2):\n",
    "    # result variable to store additions of prime numbers\n",
    "    result = 0\n",
    "    \n",
    "    # check to see if num1 is less than num2\n",
    "    if num1 > num2:\n",
    "        temp = num2\n",
    "        num2 = num1\n",
    "        \n",
    "        num1 = temp\n",
    "    \n",
    "    # loop from num1 to num2 (inclusive) and check each number to see if prime\n",
    "    # if prime, then I want to add the number to my result\n",
    "    for i in range(num1, (num2 + 1)):\n",
    "        # pass in i into my is_prime function\n",
    "        if (is_prime(i)): # \n",
    "            result += i \n",
    "    \n",
    "    return result \n",
    "​\n",
    "print(prime_range_sum(10, 20))\n",
    "print(prime_range_sum(20, 10))\n",
    "print(prime_range_sum(20, 29))\n",
    "print(prime_range_sum(50, 41))"
   ]
  },
  {
   "cell_type": "code",
   "execution_count": null,
   "metadata": {},
   "outputs": [],
   "source": []
  }
 ],
 "metadata": {
  "kernelspec": {
   "display_name": "Python 3",
   "language": "python",
   "name": "python3"
  },
  "language_info": {
   "codemirror_mode": {
    "name": "ipython",
    "version": 3
   },
   "file_extension": ".py",
   "mimetype": "text/x-python",
   "name": "python",
   "nbconvert_exporter": "python",
   "pygments_lexer": "ipython3",
   "version": "3.8.5"
  }
 },
 "nbformat": 4,
 "nbformat_minor": 4
}
